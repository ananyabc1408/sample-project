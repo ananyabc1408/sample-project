{
 "cells": [
  {
   "cell_type": "code",
   "execution_count": 1,
   "id": "55433691-9768-4d7c-aa7b-0e89fcc5f299",
   "metadata": {},
   "outputs": [],
   "source": [
    "import pandas as pd\n",
    "import numpy as np\n",
    "import matplotlib.pyplot as plt\n",
    "from sklearn.model_selection import train_test_split\n",
    "from sklearn.linear_model import LinearRegression, LogisticRegression\n",
    "from sklearn.metrics import mean_squared_error, accuracy_score, confusion_matrix, classification_report\n",
    "\n"
   ]
  },
  {
   "cell_type": "code",
   "execution_count": 2,
   "id": "a61e4c3e-e41a-4e03-bd51-d970244ecbd1",
   "metadata": {},
   "outputs": [
    {
     "data": {
      "text/html": [
       "<div>\n",
       "<style scoped>\n",
       "    .dataframe tbody tr th:only-of-type {\n",
       "        vertical-align: middle;\n",
       "    }\n",
       "\n",
       "    .dataframe tbody tr th {\n",
       "        vertical-align: top;\n",
       "    }\n",
       "\n",
       "    .dataframe thead th {\n",
       "        text-align: right;\n",
       "    }\n",
       "</style>\n",
       "<table border=\"1\" class=\"dataframe\">\n",
       "  <thead>\n",
       "    <tr style=\"text-align: right;\">\n",
       "      <th></th>\n",
       "      <th>Experience</th>\n",
       "      <th>Education</th>\n",
       "      <th>Salary</th>\n",
       "      <th>Above_50K</th>\n",
       "    </tr>\n",
       "  </thead>\n",
       "  <tbody>\n",
       "    <tr>\n",
       "      <th>0</th>\n",
       "      <td>7</td>\n",
       "      <td>18</td>\n",
       "      <td>67.837159</td>\n",
       "      <td>1</td>\n",
       "    </tr>\n",
       "    <tr>\n",
       "      <th>1</th>\n",
       "      <td>15</td>\n",
       "      <td>18</td>\n",
       "      <td>82.861084</td>\n",
       "      <td>1</td>\n",
       "    </tr>\n",
       "    <tr>\n",
       "      <th>2</th>\n",
       "      <td>11</td>\n",
       "      <td>11</td>\n",
       "      <td>78.862057</td>\n",
       "      <td>1</td>\n",
       "    </tr>\n",
       "    <tr>\n",
       "      <th>3</th>\n",
       "      <td>8</td>\n",
       "      <td>16</td>\n",
       "      <td>62.049293</td>\n",
       "      <td>1</td>\n",
       "    </tr>\n",
       "    <tr>\n",
       "      <th>4</th>\n",
       "      <td>7</td>\n",
       "      <td>19</td>\n",
       "      <td>68.099778</td>\n",
       "      <td>1</td>\n",
       "    </tr>\n",
       "  </tbody>\n",
       "</table>\n",
       "</div>"
      ],
      "text/plain": [
       "   Experience  Education     Salary  Above_50K\n",
       "0           7         18  67.837159          1\n",
       "1          15         18  82.861084          1\n",
       "2          11         11  78.862057          1\n",
       "3           8         16  62.049293          1\n",
       "4           7         19  68.099778          1"
      ]
     },
     "execution_count": 2,
     "metadata": {},
     "output_type": "execute_result"
    }
   ],
   "source": [
    "# Load dataset \n",
    "df = pd.read_csv('regression_dataset.csv')\n",
    "df.head()"
   ]
  },
  {
   "cell_type": "code",
   "execution_count": 3,
   "id": "ad9def7f-269e-4519-a8e5-fe53344f3eef",
   "metadata": {},
   "outputs": [
    {
     "data": {
      "text/html": [
       "<div>\n",
       "<style scoped>\n",
       "    .dataframe tbody tr th:only-of-type {\n",
       "        vertical-align: middle;\n",
       "    }\n",
       "\n",
       "    .dataframe tbody tr th {\n",
       "        vertical-align: top;\n",
       "    }\n",
       "\n",
       "    .dataframe thead th {\n",
       "        text-align: right;\n",
       "    }\n",
       "</style>\n",
       "<table border=\"1\" class=\"dataframe\">\n",
       "  <thead>\n",
       "    <tr style=\"text-align: right;\">\n",
       "      <th></th>\n",
       "      <th>Experience</th>\n",
       "      <th>Education</th>\n",
       "      <th>Salary</th>\n",
       "      <th>Above_50K</th>\n",
       "    </tr>\n",
       "  </thead>\n",
       "  <tbody>\n",
       "    <tr>\n",
       "      <th>0</th>\n",
       "      <td>7</td>\n",
       "      <td>18</td>\n",
       "      <td>67.837159</td>\n",
       "      <td>1</td>\n",
       "    </tr>\n",
       "    <tr>\n",
       "      <th>1</th>\n",
       "      <td>15</td>\n",
       "      <td>18</td>\n",
       "      <td>82.861084</td>\n",
       "      <td>1</td>\n",
       "    </tr>\n",
       "    <tr>\n",
       "      <th>2</th>\n",
       "      <td>11</td>\n",
       "      <td>11</td>\n",
       "      <td>78.862057</td>\n",
       "      <td>1</td>\n",
       "    </tr>\n",
       "    <tr>\n",
       "      <th>3</th>\n",
       "      <td>8</td>\n",
       "      <td>16</td>\n",
       "      <td>62.049293</td>\n",
       "      <td>1</td>\n",
       "    </tr>\n",
       "    <tr>\n",
       "      <th>4</th>\n",
       "      <td>7</td>\n",
       "      <td>19</td>\n",
       "      <td>68.099778</td>\n",
       "      <td>1</td>\n",
       "    </tr>\n",
       "  </tbody>\n",
       "</table>\n",
       "</div>"
      ],
      "text/plain": [
       "   Experience  Education     Salary  Above_50K\n",
       "0           7         18  67.837159          1\n",
       "1          15         18  82.861084          1\n",
       "2          11         11  78.862057          1\n",
       "3           8         16  62.049293          1\n",
       "4           7         19  68.099778          1"
      ]
     },
     "execution_count": 3,
     "metadata": {},
     "output_type": "execute_result"
    }
   ],
   "source": [
    "# Ensure no missing values\n",
    "df = df.dropna()\n",
    "df.head()"
   ]
  },
  {
   "cell_type": "code",
   "execution_count": 4,
   "id": "158bfc55-483a-4eb7-bce8-9218291d6d49",
   "metadata": {},
   "outputs": [],
   "source": [
    "# Extract independent and dependent variables\n",
    "X = df[['Experience', 'Education']]\n",
    "y_salary = df['Salary']  # For Linear Regression\n",
    "y_class = df['Above_50K']  # For Logistic Regression\n"
   ]
  },
  {
   "cell_type": "code",
   "execution_count": 5,
   "id": "1d7dfdee-9bdf-4b28-bec8-bf05706dcc6a",
   "metadata": {},
   "outputs": [],
   "source": [
    "# Split dataset into training and testing sets (80% train, 20% test)\n",
    "X_train, X_test, y_salary_train, y_salary_test = train_test_split(X, y_salary, test_size=0.2, random_state=42)\n",
    "X_train_log, X_test_log, y_class_train, y_class_test = train_test_split(X, y_class, test_size=0.2, random_state=42)\n"
   ]
  },
  {
   "cell_type": "code",
   "execution_count": 6,
   "id": "25b12703-f7c1-43a2-81df-06b599303b84",
   "metadata": {},
   "outputs": [],
   "source": [
    "# Ensure logistic regression target variable is categorical\n",
    "y_class_train = y_class_train.astype(int)\n",
    "y_class_test = y_class_test.astype(int)"
   ]
  },
  {
   "cell_type": "code",
   "execution_count": 7,
   "id": "5c8e8750-b686-473d-8d2c-8aa4dad394fe",
   "metadata": {},
   "outputs": [],
   "source": [
    "# Linear Regression\n",
    "lin_reg = LinearRegression()\n",
    "lin_reg.fit(X_train, y_salary_train)\n",
    "y_salary_pred = lin_reg.predict(X_test)\n",
    "\n"
   ]
  },
  {
   "cell_type": "code",
   "execution_count": 8,
   "id": "3f6ebfb3-656c-449e-8857-90c185cfcbea",
   "metadata": {},
   "outputs": [
    {
     "name": "stdout",
     "output_type": "stream",
     "text": [
      "Linear Regression - Mean Squared Error: 22.725314800787366\n"
     ]
    }
   ],
   "source": [
    "# Evaluate Linear Regression model\n",
    "mse = mean_squared_error(y_salary_test, y_salary_pred)\n",
    "print(\"Linear Regression - Mean Squared Error:\", mse)\n"
   ]
  },
  {
   "cell_type": "code",
   "execution_count": 9,
   "id": "1111664c-8a7f-4feb-93cf-633a58ed2635",
   "metadata": {},
   "outputs": [],
   "source": [
    "# Logistic Regression\n",
    "log_reg = LogisticRegression(solver='liblinear')  # Ensure compatibility for small datasets\n",
    "log_reg.fit(X_train_log, y_class_train)\n",
    "y_class_pred = log_reg.predict(X_test_log)\n"
   ]
  },
  {
   "cell_type": "code",
   "execution_count": 10,
   "id": "c88f4ee8-46c9-4c7d-84b2-92a2408b4ce1",
   "metadata": {},
   "outputs": [],
   "source": [
    "# Evaluate Logistic Regression model\n",
    "accuracy = accuracy_score(y_class_test, y_class_pred)\n",
    "conf_matrix = confusion_matrix(y_class_test, y_class_pred)\n",
    "class_report = classification_report(y_class_test, y_class_pred)\n"
   ]
  },
  {
   "cell_type": "code",
   "execution_count": 11,
   "id": "2eb6c1d7-5c00-420a-a97f-346bebef9c41",
   "metadata": {},
   "outputs": [
    {
     "name": "stdout",
     "output_type": "stream",
     "text": [
      "Logistic Regression - Accuracy: 0.925\n",
      "Confusion Matrix:\n",
      " [[ 4  3]\n",
      " [ 0 33]]\n",
      "Classification Report:\n",
      "               precision    recall  f1-score   support\n",
      "\n",
      "           0       1.00      0.57      0.73         7\n",
      "           1       0.92      1.00      0.96        33\n",
      "\n",
      "    accuracy                           0.93        40\n",
      "   macro avg       0.96      0.79      0.84        40\n",
      "weighted avg       0.93      0.93      0.92        40\n",
      "\n"
     ]
    }
   ],
   "source": [
    "print(\"Logistic Regression - Accuracy:\", accuracy)\n",
    "print(\"Confusion Matrix:\\n\", conf_matrix)\n",
    "print(\"Classification Report:\\n\", class_report)\n",
    "\n"
   ]
  },
  {
   "cell_type": "code",
   "execution_count": 12,
   "id": "ed9e2fd1-05b5-4a96-8d99-a8c7074dc215",
   "metadata": {},
   "outputs": [
    {
     "data": {
      "image/png": "[encoded data removed]",
      "text/plain": [
       "<Figure size 640x480 with 1 Axes>"
      ]
     },
     "metadata": {},
     "output_type": "display_data"
    }
   ],
   "source": [
    "# Plot Linear Regression Predictions\n",
    "plt.scatter(y_salary_test, y_salary_pred, color='blue')\n",
    "plt.xlabel(\"Actual Salary\")\n",
    "plt.ylabel(\"Predicted Salary\")\n",
    "plt.title(\"Actual vs Predicted Salary\")\n",
    "plt.show()"
   ]
  },
  {
   "cell_type": "code",
   "execution_count": 13,
   "id": "f808f815-23e3-46e2-9c95-c4c40828b7fc",
   "metadata": {},
   "outputs": [],
   "source": [
    "import pandas as pd\n",
    "import numpy as np\n",
    "import matplotlib.pyplot as plt\n",
    "from sklearn.model_selection import train_test_split\n",
    "from sklearn.linear_model import LinearRegression, LogisticRegression\n",
    "from sklearn.metrics import mean_squared_error, accuracy_score,  classification_report\n"
   ]
  },
  {
   "cell_type": "code",
   "execution_count": 14,
   "id": "c204b40c-d22f-4b17-9018-e2bc2fbf7130",
   "metadata": {},
   "outputs": [
    {
     "data": {
      "text/html": [
       "<div>\n",
       "<style scoped>\n",
       "    .dataframe tbody tr th:only-of-type {\n",
       "        vertical-align: middle;\n",
       "    }\n",
       "\n",
       "    .dataframe tbody tr th {\n",
       "        vertical-align: top;\n",
       "    }\n",
       "\n",
       "    .dataframe thead th {\n",
       "        text-align: right;\n",
       "    }\n",
       "</style>\n",
       "<table border=\"1\" class=\"dataframe\">\n",
       "  <thead>\n",
       "    <tr style=\"text-align: right;\">\n",
       "      <th></th>\n",
       "      <th>Experience</th>\n",
       "      <th>Education</th>\n",
       "      <th>Salary</th>\n",
       "      <th>Above_50K</th>\n",
       "    </tr>\n",
       "  </thead>\n",
       "  <tbody>\n",
       "    <tr>\n",
       "      <th>0</th>\n",
       "      <td>7</td>\n",
       "      <td>18</td>\n",
       "      <td>67.837159</td>\n",
       "      <td>1</td>\n",
       "    </tr>\n",
       "    <tr>\n",
       "      <th>1</th>\n",
       "      <td>15</td>\n",
       "      <td>18</td>\n",
       "      <td>82.861084</td>\n",
       "      <td>1</td>\n",
       "    </tr>\n",
       "    <tr>\n",
       "      <th>2</th>\n",
       "      <td>11</td>\n",
       "      <td>11</td>\n",
       "      <td>78.862057</td>\n",
       "      <td>1</td>\n",
       "    </tr>\n",
       "    <tr>\n",
       "      <th>3</th>\n",
       "      <td>8</td>\n",
       "      <td>16</td>\n",
       "      <td>62.049293</td>\n",
       "      <td>1</td>\n",
       "    </tr>\n",
       "    <tr>\n",
       "      <th>4</th>\n",
       "      <td>7</td>\n",
       "      <td>19</td>\n",
       "      <td>68.099778</td>\n",
       "      <td>1</td>\n",
       "    </tr>\n",
       "  </tbody>\n",
       "</table>\n",
       "</div>"
      ],
      "text/plain": [
       "   Experience  Education     Salary  Above_50K\n",
       "0           7         18  67.837159          1\n",
       "1          15         18  82.861084          1\n",
       "2          11         11  78.862057          1\n",
       "3           8         16  62.049293          1\n",
       "4           7         19  68.099778          1"
      ]
     },
     "execution_count": 14,
     "metadata": {},
     "output_type": "execute_result"
    }
   ],
   "source": [
    "# Load dataset (replace 'your_dataset.csv' with the actual file path)\n",
    "df = pd.read_csv('regression_dataset.csv')\n",
    "df.head()"
   ]
  },
  {
   "cell_type": "code",
   "execution_count": 15,
   "id": "85668671-d36d-4dfc-9c4e-2bf3711409e7",
   "metadata": {},
   "outputs": [
    {
     "data": {
      "text/html": [
       "<div>\n",
       "<style scoped>\n",
       "    .dataframe tbody tr th:only-of-type {\n",
       "        vertical-align: middle;\n",
       "    }\n",
       "\n",
       "    .dataframe tbody tr th {\n",
       "        vertical-align: top;\n",
       "    }\n",
       "\n",
       "    .dataframe thead th {\n",
       "        text-align: right;\n",
       "    }\n",
       "</style>\n",
       "<table border=\"1\" class=\"dataframe\">\n",
       "  <thead>\n",
       "    <tr style=\"text-align: right;\">\n",
       "      <th></th>\n",
       "      <th>Experience</th>\n",
       "      <th>Education</th>\n",
       "      <th>Salary</th>\n",
       "      <th>Above_50K</th>\n",
       "    </tr>\n",
       "  </thead>\n",
       "  <tbody>\n",
       "    <tr>\n",
       "      <th>0</th>\n",
       "      <td>7</td>\n",
       "      <td>18</td>\n",
       "      <td>67.837159</td>\n",
       "      <td>1</td>\n",
       "    </tr>\n",
       "    <tr>\n",
       "      <th>1</th>\n",
       "      <td>15</td>\n",
       "      <td>18</td>\n",
       "      <td>82.861084</td>\n",
       "      <td>1</td>\n",
       "    </tr>\n",
       "    <tr>\n",
       "      <th>2</th>\n",
       "      <td>11</td>\n",
       "      <td>11</td>\n",
       "      <td>78.862057</td>\n",
       "      <td>1</td>\n",
       "    </tr>\n",
       "    <tr>\n",
       "      <th>3</th>\n",
       "      <td>8</td>\n",
       "      <td>16</td>\n",
       "      <td>62.049293</td>\n",
       "      <td>1</td>\n",
       "    </tr>\n",
       "    <tr>\n",
       "      <th>4</th>\n",
       "      <td>7</td>\n",
       "      <td>19</td>\n",
       "      <td>68.099778</td>\n",
       "      <td>1</td>\n",
       "    </tr>\n",
       "  </tbody>\n",
       "</table>\n",
       "</div>"
      ],
      "text/plain": [
       "   Experience  Education     Salary  Above_50K\n",
       "0           7         18  67.837159          1\n",
       "1          15         18  82.861084          1\n",
       "2          11         11  78.862057          1\n",
       "3           8         16  62.049293          1\n",
       "4           7         19  68.099778          1"
      ]
     },
     "execution_count": 15,
     "metadata": {},
     "output_type": "execute_result"
    }
   ],
   "source": [
    "# Ensure no missing values\n",
    "df = df.dropna()\n",
    "df.head()\n",
    "\n"
   ]
  },
  {
   "cell_type": "code",
   "execution_count": 51,
   "id": "950a8ffe-5d43-4e8c-becd-efae5312a62c",
   "metadata": {},
   "outputs": [],
   "source": [
    "# Separate features (independent variables) and target (dependent variables)\n",
    "X = df[['Experience', 'Education']]\n",
    "y_salary = df['Salary']  # Target for Linear Regression\n",
    "y_class = df['Above_50K']  # Target for Logistic Regression\n"
   ]
  },
  {
   "cell_type": "code",
   "execution_count": 52,
   "id": "90236997-a091-40a6-b124-e6bb61ee1a3e",
   "metadata": {},
   "outputs": [],
   "source": [
    "# Split data into training and test sets (80% train, 20% test)\n",
    "X_train, X_test, y_salary_train, y_salary_test = train_test_split(X, y_salary, test_size=0.2, random_state=42)\n",
    "X_train_log, X_test_log, y_class_train, y_class_test = train_test_split(X, y_class, test_size=0.2, random_state=42)\n",
    "\n"
   ]
  },
  {
   "cell_type": "code",
   "execution_count": 53,
   "id": "8e05c725-273f-46ad-9d62-b090969b81e8",
   "metadata": {},
   "outputs": [],
   "source": [
    "# Convert logistic regression target to integer values (0 or 1)\n",
    "y_class_train = y_class_train.astype(int)\n",
    "y_class_test = y_class_test.astype(int)"
   ]
  },
  {
   "cell_type": "code",
   "execution_count": 54,
   "id": "dfbfac92-f9c8-4a2a-8137-8665612512da",
   "metadata": {},
   "outputs": [],
   "source": [
    "# --- Linear Regression ---\n",
    "# Create and train Linear Regression model\n",
    "lin_reg = LinearRegression()\n",
    "lin_reg.fit(X_train, y_salary_train)\n",
    "y_salary_pred = lin_reg.predict(X_test)\n"
   ]
  },
  {
   "cell_type": "code",
   "execution_count": 55,
   "id": "215106e9-b357-45e2-9d34-4b6276b719f0",
   "metadata": {},
   "outputs": [
    {
     "name": "stdout",
     "output_type": "stream",
     "text": [
      "Linear Regression - Mean Squared Error: 22.725314800787366\n"
     ]
    }
   ],
   "source": [
    "# Evaluate Linear Regression model\n",
    "mse = mean_squared_error(y_salary_test, y_salary_pred)\n",
    "print(\"Linear Regression - Mean Squared Error:\", mse)\n",
    "\n"
   ]
  },
  {
   "cell_type": "code",
   "execution_count": 56,
   "id": "67d57a0c-32ed-46d8-acd5-4ab3027f1287",
   "metadata": {},
   "outputs": [
    {
     "data": {
      "image/png": "[encoded data removed]",
      "text/plain": [
       "<Figure size 800x600 with 1 Axes>"
      ]
     },
     "metadata": {},
     "output_type": "display_data"
    }
   ],
   "source": [
    "# Plot: Linear Regression - Actual vs Predicted Salary\n",
    "plt.figure(figsize=(8, 6))\n",
    "plt.scatter(y_salary_test, y_salary_pred, color='blue')\n",
    "plt.plot([min(y_salary_test), max(y_salary_test)], [min(y_salary_test), max(y_salary_test)], color='red', linestyle='--')  # Line of perfect prediction\n",
    "plt.xlabel(\"Actual Salary\")\n",
    "plt.ylabel(\"Predicted Salary\")\n",
    "plt.title(\"Linear Regression: Actual vs Predicted Salary\")\n",
    "plt.grid(True)\n",
    "plt.show()"
   ]
  },
  {
   "cell_type": "code",
   "execution_count": 57,
   "id": "98c8d652-b294-4d47-9229-7df419fe11c9",
   "metadata": {},
   "outputs": [],
   "source": [
    "# --- Logistic Regression ---\n",
    "# Create and train Logistic Regression model\n",
    "log_reg = LogisticRegression(solver='liblinear')\n",
    "log_reg.fit(X_train_log, y_class_train)\n",
    "y_class_pred = log_reg.predict(X_test_log)\n"
   ]
  },
  {
   "cell_type": "code",
   "execution_count": 58,
   "id": "3e21dacd-e38a-441b-aae6-890104759fcd",
   "metadata": {},
   "outputs": [
    {
     "name": "stdout",
     "output_type": "stream",
     "text": [
      "Logistic Regression - Accuracy: 0.925\n"
     ]
    }
   ],
   "source": [
    "# Evaluate Logistic Regression model\n",
    "accuracy = accuracy_score(y_class_test, y_class_pred)\n",
    "print(\"Logistic Regression - Accuracy:\", accuracy)\n"
   ]
  },
  {
   "cell_type": "code",
   "execution_count": 60,
   "id": "617421eb-cb3c-41b3-bdea-b4a839c4c0e6",
   "metadata": {},
   "outputs": [
    {
     "data": {
      "image/png": "[encoded data removed]",
      "text/plain": [
       "<Figure size 600x400 with 1 Axes>"
      ]
     },
     "metadata": {},
     "output_type": "display_data"
    }
   ],
   "source": [
    "\n",
    "# Plot: Logistic Regression - Accuracy as a Scatter Plot\n",
    "plt.figure(figsize=(6, 4))\n",
    "plt.scatter(['Accuracy'], [accuracy], color='green', s=100)  # 's' sets the size of the point\n",
    "plt.ylabel('Accuracy')\n",
    "plt.title('Logistic Regression Accuracy (Scatter Plot)')\n",
    "plt.ylim(0, 1)\n",
    "plt.show()"
   ]
  },
  {
   "cell_type": "code",
   "execution_count": 48,
   "id": "96b40f19-7c3c-4c73-9ae4-6ae1a2a567af",
   "metadata": {},
   "outputs": [],
   "source": []
  },
  {
   "cell_type": "code",
   "execution_count": null,
   "id": "1c88ad16-ab9b-4491-af92-4504236d4481",
   "metadata": {},
   "outputs": [],
   "source": []
  },
  {
   "cell_type": "code",
   "execution_count": null,
   "id": "5bbf7f07-24bf-449c-9317-f0a5010ad73c",
   "metadata": {},
   "outputs": [],
   "source": []
  },
  {
   "cell_type": "code",
   "execution_count": null,
   "id": "43f26de5-c474-473a-a381-d26dc7602eb7",
   "metadata": {},
   "outputs": [],
   "source": []
  }
 ],
 "metadata": {
  "kernelspec": {
   "display_name": "Python 3 (ipykernel)",
   "language": "python",
   "name": "python3"
  },
  "language_info": {
   "codemirror_mode": {
    "name": "ipython",
    "version": 3
   },
   "file_extension": ".py",
   "mimetype": "text/x-python",
   "name": "python",
   "nbconvert_exporter": "python",
   "pygments_lexer": "ipython3",
   "version": "3.12.7"
  }
 },
 "nbformat": 4,
 "nbformat_minor": 5
}
